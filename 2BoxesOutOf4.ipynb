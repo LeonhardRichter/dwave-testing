{
 "cells": [
  {
   "cell_type": "markdown",
   "metadata": {},
   "source": [
    "Recreation of the hello world problem found in the resources collection.  \n",
    "Goal is to find a collection of 2 items out of 3, with minimal added values.  \n",
    "\n",
    "Values: $ v_1=42, v_2=136, v_3=55, v_4=3 $"
   ]
  },
  {
   "cell_type": "markdown",
   "metadata": {},
   "source": [
    "Goal function:\n",
    "\n",
    "$$\n",
    "\\min_{(x_1,\\dots x_4)\\in{0,1}^4} \\sum_{i}v_ix_i\n",
    "$$\n",
    "\n",
    "Constraint:\n",
    "\n",
    "$$\n",
    "\\sum_i x_i = 2\n",
    "$$\n",
    "QUBO friendly:\n",
    "\n",
    "$$ \n",
    "(2 - \\sum_ix_i)^2\n",
    "$$\n",
    "\n",
    "Hamiltonian\n",
    "$$\n",
    "\\begin{align*}\n",
    "H   &= A*\\sum_{i}v_ix_i + B*(2 - \\sum_ix_i)^2\\\\\n",
    "    &= A*\\sum_{i}v_ix_i - 4B \\sum_ix_i + B\\sum_ix_i +2B\\sum_{i,j;i<j}x_ix_j + 4\\\\\n",
    "    &= A\\sum_{i}v_ix_i - 3B\\sum_ix_i + 2B\\sum_{i,j;i<j}x_ix_j + 4B\\\\\n",
    "    &= (42A-3B)x_1 + (136A-3B)x_2 + (55A-3B)x_2 + (3A-3B)x_4 + 2B\\sum_{i,j;i<j}x_ix_j + 4B \n",
    "\\end{align*}\n",
    "$$\n",
    "\n",
    "Because auf the large difference in values in can occur that ignoring the constraint gives a better overall energy by just choosing the one value very low. $A$ and $B$ have to be chosen in a way that this is compensated.  \n",
    "\n",
    "The maximal energy penalty from $ H_B $ for braking the constaraint by one qbit is $ \\Delta H_B = B $. The minimal energy won by $H_A$ for this is $\\Delta H_A=42A$. So to be sure we need\n",
    "\n",
    "$$ 0<\\Delta H_A \\leq \\Delta H_B $$ \n",
    "so in the end\n",
    "\n",
    "$$ B\\geq 42A $$"
   ]
  },
  {
   "cell_type": "code",
   "execution_count": 16,
   "metadata": {},
   "outputs": [],
   "source": [
    "import dimod\n",
    "from dwave.system.samplers import DWaveSampler\n",
    "from dwave.system.composites import EmbeddingComposite\n",
    "from dwave.preprocessing import roof_duality"
   ]
  },
  {
   "cell_type": "code",
   "execution_count": 36,
   "metadata": {},
   "outputs": [
    {
     "data": {
      "text/plain": [
       "(142.5, {2: 0})"
      ]
     },
     "execution_count": 36,
     "metadata": {},
     "output_type": "execute_result"
    }
   ],
   "source": [
    "A=5\n",
    "B=43*A\n",
    "\n",
    "linear = {1: 42*A-3*B, 2: 136*A-3*B, 3: 55*A-3*B, 4: 3*A-3*B}\n",
    "\n",
    "quadratic = {(1,2):2*B, (1,3):2*B, (1,4):2*B, (2,3):2*B, (2,4):2*B, (3,4):2*B}\n",
    "\n",
    "bqm = dimod.BinaryQuadraticModel(linear, quadratic, offset=4*B, vartype=dimod.BINARY)\n",
    "roof_duality(bqm)"
   ]
  },
  {
   "cell_type": "code",
   "execution_count": 37,
   "metadata": {},
   "outputs": [
    {
     "name": "stdout",
     "output_type": "stream",
     "text": [
      "Results from D-Wave\n",
      "   1  2  3  4 energy num_oc. chain_.\n",
      "0  1  0  0  1  225.0     620     0.0\n",
      "1  0  0  0  1  230.0     339     0.0\n",
      "2  0  0  1  1  290.0      39     0.0\n",
      "3  1  0  0  0  425.0       2     0.0\n",
      "['BINARY', 4 rows, 1000 samples, 4 variables]\n"
     ]
    }
   ],
   "source": [
    "sampler = EmbeddingComposite(DWaveSampler())\n",
    "result = sampler.sample(bqm, num_reads = 1000)\n",
    "\n",
    "print('Results from D-Wave')\n",
    "print(result)"
   ]
  }
 ],
 "metadata": {
  "interpreter": {
   "hash": "cf1a8a9383c6969d4b6343c159bd14a74fad2d9fe09c69642ba79965bd8db986"
  },
  "kernelspec": {
   "display_name": "Python 3.9.6 64-bit ('ocean': venv)",
   "language": "python",
   "name": "python3"
  },
  "language_info": {
   "codemirror_mode": {
    "name": "ipython",
    "version": 3
   },
   "file_extension": ".py",
   "mimetype": "text/x-python",
   "name": "python",
   "nbconvert_exporter": "python",
   "pygments_lexer": "ipython3",
   "version": "3.9.6"
  },
  "orig_nbformat": 4
 },
 "nbformat": 4,
 "nbformat_minor": 2
}
